{
 "cells": [
  {
   "cell_type": "markdown",
   "id": "466904eb",
   "metadata": {},
   "source": [
    "## Lambda Functions"
   ]
  },
  {
   "cell_type": "markdown",
   "id": "484b17ef",
   "metadata": {},
   "source": [
    "- Create a lambda function named `even_or_odd` that takes an integer named `num`. If `num` is even, return `even`. If `num` is odd, return `odd`."
   ]
  },
  {
   "cell_type": "code",
   "execution_count": 2,
   "id": "8f154eb6",
   "metadata": {},
   "outputs": [
    {
     "name": "stdout",
     "output_type": "stream",
     "text": [
      "even\n",
      "odd\n"
     ]
    }
   ],
   "source": [
    "even_or_odd = lambda num: 'even' if num%2==0 else 'odd'\n",
    "\n",
    "print(even_or_odd(10))\n",
    "print(even_or_odd(5))"
   ]
  },
  {
   "cell_type": "markdown",
   "id": "08a65299",
   "metadata": {},
   "source": [
    "- Create a lambda function named `double_or_zero` that takes an integer named `num`. If `num` is greater than 10, return double `num`. Otherwise, return `0`."
   ]
  },
  {
   "cell_type": "code",
   "execution_count": 3,
   "id": "6b66dea0",
   "metadata": {},
   "outputs": [
    {
     "name": "stdout",
     "output_type": "stream",
     "text": [
      "30\n",
      "0\n"
     ]
    }
   ],
   "source": [
    "double_or_zero = lambda num: num*2 if num > 10 else 0\n",
    "\n",
    "print(double_or_zero(15))\n",
    "print(double_or_zero(5))"
   ]
  },
  {
   "cell_type": "markdown",
   "id": "1e04efea",
   "metadata": {},
   "source": [
    "- Create a lambda function named `multiple_of_three` that takes an integer named `num`. If `num` is a multiple of three, return `\"multiple of three\"`. Otherwise, return `\"not a multiple\"`."
   ]
  },
  {
   "cell_type": "code",
   "execution_count": 4,
   "id": "03dc8ad6",
   "metadata": {},
   "outputs": [
    {
     "name": "stdout",
     "output_type": "stream",
     "text": [
      "multiple of three\n",
      "not a multiple\n"
     ]
    }
   ],
   "source": [
    "multiple_of_three = lambda num: \"multiple of three\" if num%3==0 else \"not a multiple\"\n",
    "\n",
    "print(multiple_of_three(9))\n",
    "print(multiple_of_three(10))"
   ]
  },
  {
   "cell_type": "markdown",
   "id": "2980abb4",
   "metadata": {},
   "source": [
    "- Create a lambda function named `rate_movie` that takes a number named `rating`. If `rating` is greater than 8.5, return `\"I liked this movie\"`. Otherwise return `\"This movie was not very good\"`."
   ]
  },
  {
   "cell_type": "code",
   "execution_count": 5,
   "id": "123024ef",
   "metadata": {},
   "outputs": [
    {
     "name": "stdout",
     "output_type": "stream",
     "text": [
      "I liked this movie\n",
      "This movie was not very good\n"
     ]
    }
   ],
   "source": [
    "rate_movie = lambda rating: \"I liked this movie\" if rating>8.5 else \"This movie was not very good\"\n",
    "\n",
    "print(rate_movie(9.2))\n",
    "print(rate_movie(7.2))"
   ]
  },
  {
   "cell_type": "markdown",
   "id": "d27b918f",
   "metadata": {},
   "source": [
    "- Create a lambda function named `ones_place` that returns the ones’ place of the input `num`."
   ]
  },
  {
   "cell_type": "code",
   "execution_count": 6,
   "id": "73cd760d",
   "metadata": {},
   "outputs": [
    {
     "name": "stdout",
     "output_type": "stream",
     "text": [
      "3\n",
      "4\n"
     ]
    }
   ],
   "source": [
    "ones_place = lambda num:num%10\n",
    "\n",
    "print(ones_place(123))\n",
    "print(ones_place(4))"
   ]
  },
  {
   "cell_type": "markdown",
   "id": "f1c5dddd",
   "metadata": {},
   "source": [
    "- Create a lambda function named `double_square` that takes an input named `num`. The function should return twice the square of num."
   ]
  },
  {
   "cell_type": "code",
   "execution_count": 7,
   "id": "5fe9373d",
   "metadata": {},
   "outputs": [
    {
     "name": "stdout",
     "output_type": "stream",
     "text": [
      "50\n",
      "18\n"
     ]
    }
   ],
   "source": [
    "double_square = lambda num: 2*num**2 \n",
    "\n",
    "print(double_square(5))\n",
    "print(double_square(3))"
   ]
  },
  {
   "cell_type": "markdown",
   "id": "12cb1d60",
   "metadata": {},
   "source": [
    "- Create a lambda function named `add_random` that takes an input named `num`. The function should return num plus a random integer number between 1 and 10 (inclusive)."
   ]
  },
  {
   "cell_type": "code",
   "execution_count": 8,
   "id": "474a1fd7",
   "metadata": {},
   "outputs": [
    {
     "name": "stdout",
     "output_type": "stream",
     "text": [
      "10\n",
      "106\n"
     ]
    }
   ],
   "source": [
    "import random\n",
    "\n",
    "add_random = lambda num: num+random.randint(1,10)\n",
    "print(add_random(5))\n",
    "print(add_random(100))"
   ]
  }
 ],
 "metadata": {
  "kernelspec": {
   "display_name": "Python 3 (ipykernel)",
   "language": "python",
   "name": "python3"
  },
  "language_info": {
   "codemirror_mode": {
    "name": "ipython",
    "version": 3
   },
   "file_extension": ".py",
   "mimetype": "text/x-python",
   "name": "python",
   "nbconvert_exporter": "python",
   "pygments_lexer": "ipython3",
   "version": "3.10.10"
  }
 },
 "nbformat": 4,
 "nbformat_minor": 5
}
