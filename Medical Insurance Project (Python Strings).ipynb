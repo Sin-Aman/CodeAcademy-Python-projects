{
 "cells": [
  {
   "cell_type": "markdown",
   "id": "5739bb38",
   "metadata": {},
   "source": [
    "## Medical Insurance Project: Python Strings\n",
    "You are a doctor who needs to clean up medical patient records, which are currently stored in one large string."
   ]
  },
  {
   "cell_type": "code",
   "execution_count": 2,
   "id": "6808b41f",
   "metadata": {},
   "outputs": [],
   "source": [
    "medical_data = \\\n",
    "\"\"\"Marina Allison   ,27   ,   31.1 , \n",
    "#7010.0   ;Markus Valdez   ,   30, \n",
    "22.4,   #4050.0 ;Connie Ballard ,43 \n",
    ",   25.3 , #12060.0 ;Darnell Weber   \n",
    ",   35   , 20.6   , #7500.0;\n",
    "Sylvie Charles   ,22, 22.1 \n",
    ",#3022.0   ;   Vinay Padilla,24,   \n",
    "26.9 ,#4620.0 ;Meredith Santiago, 51   , \n",
    "29.3 ,#16330.0;   Andre Mccarty, \n",
    "19,22.7 , #2900.0 ; \n",
    "Lorena Hodson ,65, 33.1 , #19370.0; \n",
    "Isaac Vu ,34, 24.8,   #7045.0\"\"\""
   ]
  },
  {
   "cell_type": "markdown",
   "id": "75de518c",
   "metadata": {},
   "source": [
    "### Task 1:\n",
    "The string `medical_data` stores the medical records for ten individuals. Each record is separated by a `;` and contains the name, age, BMI (body mass index), and insurance cost for an individual, in that order.\n",
    "\n",
    "Print `medical_data` to see the output in the terminal"
   ]
  },
  {
   "cell_type": "code",
   "execution_count": 3,
   "id": "c2ddb043",
   "metadata": {},
   "outputs": [
    {
     "name": "stdout",
     "output_type": "stream",
     "text": [
      "Marina Allison   ,27   ,   31.1 , \n",
      "#7010.0   ;Markus Valdez   ,   30, \n",
      "22.4,   #4050.0 ;Connie Ballard ,43 \n",
      ",   25.3 , #12060.0 ;Darnell Weber   \n",
      ",   35   , 20.6   , #7500.0;\n",
      "Sylvie Charles   ,22, 22.1 \n",
      ",#3022.0   ;   Vinay Padilla,24,   \n",
      "26.9 ,#4620.0 ;Meredith Santiago, 51   , \n",
      "29.3 ,#16330.0;   Andre Mccarty, \n",
      "19,22.7 , #2900.0 ; \n",
      "Lorena Hodson ,65, 33.1 , #19370.0; \n",
      "Isaac Vu ,34, 24.8,   #7045.0\n"
     ]
    }
   ],
   "source": [
    "print(medical_data)"
   ]
  },
  {
   "cell_type": "markdown",
   "id": "0f04f030",
   "metadata": {},
   "source": [
    "### Task 2:\n",
    "We want the insurance costs to be represented in US dollars.\n",
    "\n",
    "Replace all instances of `#` in `medical_data` with `$`. Store the result in a variable called `updated_medical_data`.\n",
    "\n",
    "Print `updated_medical_data`."
   ]
  },
  {
   "cell_type": "code",
   "execution_count": 4,
   "id": "baf6d04d",
   "metadata": {},
   "outputs": [
    {
     "name": "stdout",
     "output_type": "stream",
     "text": [
      "Marina Allison   ,27   ,   31.1 , \n",
      "$7010.0   ;Markus Valdez   ,   30, \n",
      "22.4,   $4050.0 ;Connie Ballard ,43 \n",
      ",   25.3 , $12060.0 ;Darnell Weber   \n",
      ",   35   , 20.6   , $7500.0;\n",
      "Sylvie Charles   ,22, 22.1 \n",
      ",$3022.0   ;   Vinay Padilla,24,   \n",
      "26.9 ,$4620.0 ;Meredith Santiago, 51   , \n",
      "29.3 ,$16330.0;   Andre Mccarty, \n",
      "19,22.7 , $2900.0 ; \n",
      "Lorena Hodson ,65, 33.1 , $19370.0; \n",
      "Isaac Vu ,34, 24.8,   $7045.0\n"
     ]
    }
   ],
   "source": [
    "updated_medical_data = medical_data.replace(\"#\", \"$\")\n",
    "print(updated_medical_data)"
   ]
  },
  {
   "cell_type": "markdown",
   "id": "e1c605d5",
   "metadata": {},
   "source": [
    "### Task 3:\n",
    "We want to calculate the number of medical records in our data.\n",
    "\n",
    "Create a variable called `num_records` and initialize it at 0."
   ]
  },
  {
   "cell_type": "code",
   "execution_count": 5,
   "id": "aba7b028",
   "metadata": {},
   "outputs": [],
   "source": [
    "num_records = 0"
   ]
  },
  {
   "cell_type": "markdown",
   "id": "c2e54d89",
   "metadata": {},
   "source": [
    "### Task 4:\n",
    "Write a `for` loop to iterate through the `updated_medical_data` string. Inside of the loop, add `1` to `num_records` when the current character is equal to `$`."
   ]
  },
  {
   "cell_type": "code",
   "execution_count": 6,
   "id": "5396866d",
   "metadata": {},
   "outputs": [],
   "source": [
    "for character in updated_medical_data:\n",
    "  if character == '$':\n",
    "    num_records += 1"
   ]
  },
  {
   "cell_type": "markdown",
   "id": "f5f9613a",
   "metadata": {},
   "source": [
    "### Task 5:\n",
    "Outside of the loop, print `num_records` with the following message:\n",
    "\n",
    "`There are {num_records} medical records in the data.`"
   ]
  },
  {
   "cell_type": "code",
   "execution_count": 7,
   "id": "585df440",
   "metadata": {},
   "outputs": [
    {
     "name": "stdout",
     "output_type": "stream",
     "text": [
      "There are 10 medical records in the data\n"
     ]
    }
   ],
   "source": [
    "print(\"There are \" + str(num_records) + \" medical records in the data\")"
   ]
  },
  {
   "cell_type": "markdown",
   "id": "5c967a4b",
   "metadata": {},
   "source": [
    "### Task 6:\n",
    "The medical data in its current form is difficult to analyze. An essential job for a data scientist is to clean up data so that it’s easy to work with.\n",
    "\n",
    "Let’s start off by splitting the `updated_medical_data` string into a list of each medical record. Remember that each medical record is separated by a `;` in the string.\n",
    "\n",
    "Store the result in a variable called `medical_data_split` and print this variable."
   ]
  },
  {
   "cell_type": "code",
   "execution_count": 8,
   "id": "bfc53342",
   "metadata": {},
   "outputs": [
    {
     "name": "stdout",
     "output_type": "stream",
     "text": [
      "['Marina Allison   ,27   ,   31.1 , \\n$7010.0   ', 'Markus Valdez   ,   30, \\n22.4,   $4050.0 ', 'Connie Ballard ,43 \\n,   25.3 , $12060.0 ', 'Darnell Weber   \\n,   35   , 20.6   , $7500.0', '\\nSylvie Charles   ,22, 22.1 \\n,$3022.0   ', '   Vinay Padilla,24,   \\n26.9 ,$4620.0 ', 'Meredith Santiago, 51   , \\n29.3 ,$16330.0', '   Andre Mccarty, \\n19,22.7 , $2900.0 ', ' \\nLorena Hodson ,65, 33.1 , $19370.0', ' \\nIsaac Vu ,34, 24.8,   $7045.0']\n"
     ]
    }
   ],
   "source": [
    "medical_data_split = updated_medical_data.split(\";\")\n",
    "print(medical_data_split)"
   ]
  },
  {
   "cell_type": "markdown",
   "id": "1a12892e",
   "metadata": {},
   "source": [
    "### Task 7:\n",
    "Our data is now stored in a list, but it is still hard to read. Let’s split each medical record into its own list.\n",
    "\n",
    "First, define an empty list called `medical_records`."
   ]
  },
  {
   "cell_type": "code",
   "execution_count": 9,
   "id": "2a593963",
   "metadata": {},
   "outputs": [],
   "source": [
    "medical_records = []"
   ]
  },
  {
   "cell_type": "markdown",
   "id": "0d860bbd",
   "metadata": {},
   "source": [
    "### Task 8:\n",
    "Next, iterate through `medical_data_split` and for each record, split the string after each comma (`,`) and append the split string to `medical_records`.\n",
    "\n",
    "Print `medical_records` after the loop."
   ]
  },
  {
   "cell_type": "code",
   "execution_count": 10,
   "id": "106167f4",
   "metadata": {},
   "outputs": [
    {
     "name": "stdout",
     "output_type": "stream",
     "text": [
      "[['Marina Allison   ', '27   ', '   31.1 ', ' \\n$7010.0   '], ['Markus Valdez   ', '   30', ' \\n22.4', '   $4050.0 '], ['Connie Ballard ', '43 \\n', '   25.3 ', ' $12060.0 '], ['Darnell Weber   \\n', '   35   ', ' 20.6   ', ' $7500.0'], ['\\nSylvie Charles   ', '22', ' 22.1 \\n', '$3022.0   '], ['   Vinay Padilla', '24', '   \\n26.9 ', '$4620.0 '], ['Meredith Santiago', ' 51   ', ' \\n29.3 ', '$16330.0'], ['   Andre Mccarty', ' \\n19', '22.7 ', ' $2900.0 '], [' \\nLorena Hodson ', '65', ' 33.1 ', ' $19370.0'], [' \\nIsaac Vu ', '34', ' 24.8', '   $7045.0']]\n"
     ]
    }
   ],
   "source": [
    "for record in medical_data_split:\n",
    "  medical_records.append(record.split(','))\n",
    "print(medical_records)"
   ]
  },
  {
   "cell_type": "markdown",
   "id": "1a2c526c",
   "metadata": {},
   "source": [
    "### Task 9:\n",
    "\n",
    "Our data is now slightly more readable. However, it is not properly formatted – it contains unnecessary whitespace.\n",
    "\n",
    "To fix this, let’s start by creating an empty list called `medical_records_clean`."
   ]
  },
  {
   "cell_type": "code",
   "execution_count": 11,
   "id": "daef981a",
   "metadata": {},
   "outputs": [],
   "source": [
    "medical_records_clean = []"
   ]
  },
  {
   "cell_type": "markdown",
   "id": "ff464dce",
   "metadata": {},
   "source": [
    "### Task 10:\n",
    "Next, use a for loop to iterate through `medical_records`.\n",
    "\n",
    "Inside of the loop, create an empty list called `record_clean`. We’ll use this list to store a formatted version of each medical record.\n",
    "\n",
    "After the `record_clean` variable, create a nested `for` loop that goes through each record\n",
    "Inside of this loop, append `item.strip()` to `record_clean` to remove any whitespace from the string.\n",
    "Finally, we need to add each cleaned up record to `medical_records_clean`.\n",
    "\n",
    "Outside of the nested `for` loop, append `record_clean` to `medical_records_clean`."
   ]
  },
  {
   "cell_type": "code",
   "execution_count": 12,
   "id": "64bd1792",
   "metadata": {},
   "outputs": [],
   "source": [
    "medical_records_clean = []\n",
    "for record in medical_records:\n",
    "  record_clean = []\n",
    "  for item in record:\n",
    "    record_clean.append(item.strip())\n",
    "  medical_records_clean.append(record_clean)"
   ]
  },
  {
   "cell_type": "markdown",
   "id": "0910459c",
   "metadata": {},
   "source": [
    "### Task 11:\n",
    "Print medical_records_clean outside of the `for` loops to see the output."
   ]
  },
  {
   "cell_type": "code",
   "execution_count": 13,
   "id": "ea49b209",
   "metadata": {},
   "outputs": [
    {
     "name": "stdout",
     "output_type": "stream",
     "text": [
      "[['Marina Allison', '27', '31.1', '$7010.0'], ['Markus Valdez', '30', '22.4', '$4050.0'], ['Connie Ballard', '43', '25.3', '$12060.0'], ['Darnell Weber', '35', '20.6', '$7500.0'], ['Sylvie Charles', '22', '22.1', '$3022.0'], ['Vinay Padilla', '24', '26.9', '$4620.0'], ['Meredith Santiago', '51', '29.3', '$16330.0'], ['Andre Mccarty', '19', '22.7', '$2900.0'], ['Lorena Hodson', '65', '33.1', '$19370.0'], ['Isaac Vu', '34', '24.8', '$7045.0']]\n"
     ]
    }
   ],
   "source": [
    "print(medical_records_clean)"
   ]
  },
  {
   "cell_type": "markdown",
   "id": "f6a80081",
   "metadata": {},
   "source": [
    "### Task 12:\n",
    "\n",
    "Our data is now clean and ready for analysis.\n",
    "For example, to print out the names of each of the ten individuals, we can use a `for` loop.\n",
    "You want all of the names in the medical records to be in uppercase characters.\n",
    "\n",
    "In the `for` loop, update `record[0]` before the `print` statement so that all of the characters are uppercase."
   ]
  },
  {
   "cell_type": "code",
   "execution_count": 14,
   "id": "c5efda33",
   "metadata": {},
   "outputs": [
    {
     "name": "stdout",
     "output_type": "stream",
     "text": [
      "MARINA ALLISON\n",
      "MARKUS VALDEZ\n",
      "CONNIE BALLARD\n",
      "DARNELL WEBER\n",
      "SYLVIE CHARLES\n",
      "VINAY PADILLA\n",
      "MEREDITH SANTIAGO\n",
      "ANDRE MCCARTY\n",
      "LORENA HODSON\n",
      "ISAAC VU\n"
     ]
    }
   ],
   "source": [
    "for record in medical_records_clean:\n",
    "  record[0] = record[0].upper()\n",
    "  print(record[0])"
   ]
  },
  {
   "cell_type": "markdown",
   "id": "de79b391",
   "metadata": {},
   "source": [
    "### Task 13:\n",
    "Let’s store each name, age, BMI, and insurance cost in separate lists.\n",
    "To start, create four empty lists:\n",
    "\n",
    "- `names`\n",
    "- `ages`\n",
    "- `bmis`\n",
    "- `insurance_costs`"
   ]
  },
  {
   "cell_type": "code",
   "execution_count": 15,
   "id": "dead6801",
   "metadata": {},
   "outputs": [],
   "source": [
    "names = []\n",
    "ages = []\n",
    "bmis = []\n",
    "insurance_costs = []"
   ]
  },
  {
   "cell_type": "markdown",
   "id": "9385cf22",
   "metadata": {},
   "source": [
    "### Task 14:\n",
    "\n",
    "Next, iterate through medical_records_clean and for each record:\n",
    "\n",
    "- Append the name to `names`.\n",
    "- Append the age to `ages`.\n",
    "- Append the BMI to `bmis`.\n",
    "- Append the insurance cost to `insurance_costs`."
   ]
  },
  {
   "cell_type": "code",
   "execution_count": 16,
   "id": "d4631406",
   "metadata": {},
   "outputs": [],
   "source": [
    "for record in medical_records_clean:\n",
    "  names.append(record[0])\n",
    "  ages.append(record[1])\n",
    "  bmis.append(record[2])\n",
    "  insurance_costs.append(record[3])"
   ]
  },
  {
   "cell_type": "markdown",
   "id": "cbc5b10c",
   "metadata": {},
   "source": [
    "### Task 15:\n",
    "Print `names`, `ages`, `bmi`s, and `insurance_costs` outside of the loop."
   ]
  },
  {
   "cell_type": "code",
   "execution_count": 17,
   "id": "818584ad",
   "metadata": {},
   "outputs": [
    {
     "name": "stdout",
     "output_type": "stream",
     "text": [
      "Names: ['MARINA ALLISON', 'MARKUS VALDEZ', 'CONNIE BALLARD', 'DARNELL WEBER', 'SYLVIE CHARLES', 'VINAY PADILLA', 'MEREDITH SANTIAGO', 'ANDRE MCCARTY', 'LORENA HODSON', 'ISAAC VU']\n",
      "Ages:['27', '30', '43', '35', '22', '24', '51', '19', '65', '34']\n",
      "bmis:['31.1', '22.4', '25.3', '20.6', '22.1', '26.9', '29.3', '22.7', '33.1', '24.8']\n",
      "insurance_costs: ['$7010.0', '$4050.0', '$12060.0', '$7500.0', '$3022.0', '$4620.0', '$16330.0', '$2900.0', '$19370.0', '$7045.0']\n"
     ]
    }
   ],
   "source": [
    "print(\"Names: \" + str(names))\n",
    "print(\"Ages:\" + str(ages))\n",
    "print(\"bmis:\" + str(bmis))\n",
    "print(\"insurance_costs: \" + str(insurance_costs))"
   ]
  },
  {
   "cell_type": "markdown",
   "id": "f9468f15",
   "metadata": {},
   "source": [
    "### Task 16:\n",
    "Now that all of our data is in separate lists, we can easily perform analysis on that data. Let’s calculate the average BMI in our dataset.\n",
    "\n",
    "First, create a variable called `total_bmi` and set it equal to 0.\n",
    "Next, use a `for` loop to iterate through `bmis` and add each `bmi` to `total_bmi`.\n",
    "\n",
    "Remember to convert `bmi` to a float.\n",
    "\n",
    "After the for loop, create a variable called `average_bmi` that stores the `total_bmi` divided by the length of the `bmis` list.\n",
    "Print out `average_bmi`"
   ]
  },
  {
   "cell_type": "code",
   "execution_count": 18,
   "id": "7d1913c6",
   "metadata": {},
   "outputs": [
    {
     "name": "stdout",
     "output_type": "stream",
     "text": [
      "Average BMI: 3.11\n",
      "Average BMI: 5.35\n",
      "Average BMI: 7.88\n",
      "Average BMI: 9.94\n",
      "Average BMI: 12.15\n",
      "Average BMI: 14.84\n",
      "Average BMI: 17.77\n",
      "Average BMI: 20.04\n",
      "Average BMI: 23.35\n",
      "Average BMI: 25.83\n"
     ]
    }
   ],
   "source": [
    "total_bmi = 0\n",
    "for bmi in bmis:\n",
    "  total_bmi += float(bmi)\n",
    "  average_bmi = round(total_bmi/len(bmis),2)\n",
    "  print(\"Average BMI: \" + str(average_bmi))"
   ]
  },
  {
   "cell_type": "markdown",
   "id": "17e02d8e",
   "metadata": {},
   "source": [
    "### Task 17:\n",
    "Calculate the average insurance cost in insurance_costs. You will have to remove the `$` in order to calculate this.\n",
    "Write a for loop that outputs a string for each individual in the following format:\n",
    "\n",
    "`Marina is 27 years old with a BMI of 31.1 and an insurance cost of $7010.0.`"
   ]
  },
  {
   "cell_type": "code",
   "execution_count": 20,
   "id": "43c16bee",
   "metadata": {},
   "outputs": [
    {
     "name": "stdout",
     "output_type": "stream",
     "text": [
      "MARINA ALLISON is 27 years old with a BMI of 31.1 and an insurance cost of $7010.0\n",
      "MARKUS VALDEZ is 30 years old with a BMI of 22.4 and an insurance cost of $4050.0\n",
      "CONNIE BALLARD is 43 years old with a BMI of 25.3 and an insurance cost of $12060.0\n",
      "DARNELL WEBER is 35 years old with a BMI of 20.6 and an insurance cost of $7500.0\n",
      "SYLVIE CHARLES is 22 years old with a BMI of 22.1 and an insurance cost of $3022.0\n",
      "VINAY PADILLA is 24 years old with a BMI of 26.9 and an insurance cost of $4620.0\n",
      "MEREDITH SANTIAGO is 51 years old with a BMI of 29.3 and an insurance cost of $16330.0\n",
      "ANDRE MCCARTY is 19 years old with a BMI of 22.7 and an insurance cost of $2900.0\n",
      "LORENA HODSON is 65 years old with a BMI of 33.1 and an insurance cost of $19370.0\n",
      "ISAAC VU is 34 years old with a BMI of 24.8 and an insurance cost of $7045.0\n"
     ]
    }
   ],
   "source": [
    "for record in medical_records_clean:\n",
    "    name = record[0]\n",
    "    age = record[1]\n",
    "    bmi = record[2]\n",
    "    insurance_cost = record[3]\n",
    "\n",
    "    output_string =  name + \" is \" + age + \" years old with a BMI of \" + bmi + \" and an insurance cost of \" + insurance_cost\n",
    "    print(output_string)\n"
   ]
  }
 ],
 "metadata": {
  "kernelspec": {
   "display_name": "Python 3 (ipykernel)",
   "language": "python",
   "name": "python3"
  },
  "language_info": {
   "codemirror_mode": {
    "name": "ipython",
    "version": 3
   },
   "file_extension": ".py",
   "mimetype": "text/x-python",
   "name": "python",
   "nbconvert_exporter": "python",
   "pygments_lexer": "ipython3",
   "version": "3.10.10"
  }
 },
 "nbformat": 4,
 "nbformat_minor": 5
}
