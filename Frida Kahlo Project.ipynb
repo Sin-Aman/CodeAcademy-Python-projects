{
 "cells": [
  {
   "cell_type": "markdown",
   "id": "c8d9ca68",
   "metadata": {},
   "source": [
    "## Frida Kahlo Retrospective Off-Platform Project"
   ]
  },
  {
   "cell_type": "markdown",
   "id": "00b098ba",
   "metadata": {},
   "source": [
    "You’ve been hired to work on a retrospective of Frida Kahlo’s work at a major museum in Mexico.\n",
    "\n",
    "Your job is to put together the audio tour, but in order to do that, you need to create a list of each painting featured in the exhibit, the date it was painted, and its spot on the tour.\n",
    "\n",
    "Use your knowledge of Python lists to create a master list of each painting, its date, and its audio tour ID."
   ]
  },
  {
   "cell_type": "markdown",
   "id": "ebf687f9",
   "metadata": {},
   "source": [
    "### Task 1:\n",
    "First, create a list called `paintings` and add the following titles to it:\n",
    "\n",
    "`'The Two Fridas', 'My Dress Hangs Here', 'Tree of Hope', 'Self Portrait With Monkeys'`"
   ]
  },
  {
   "cell_type": "code",
   "execution_count": 1,
   "id": "e709ef66",
   "metadata": {},
   "outputs": [],
   "source": [
    "paintings = ['The Two Fridas', 'My Dress Hangs Here', 'Tree of Hope', 'Self Portrait With Monkeys']"
   ]
  },
  {
   "cell_type": "markdown",
   "id": "dd324ef0",
   "metadata": {},
   "source": [
    "### Task 2:\n",
    "Next, create a second list called `dates` and give it the following values:\n",
    "\n",
    "`1939, 1933, 1946, 1940`"
   ]
  },
  {
   "cell_type": "code",
   "execution_count": 11,
   "id": "bb216d68",
   "metadata": {},
   "outputs": [],
   "source": [
    "dates = [1939, 1933, 1946, 1940]"
   ]
  },
  {
   "cell_type": "markdown",
   "id": "1be8a323",
   "metadata": {},
   "source": [
    "### Task 3:\n",
    "Zip together the two lists so that each painting is paired with its date and resave it to the paintings variable. Make sure to convert the zipped object into a list using the `list()` function. Print the results to the terminal to check your work."
   ]
  },
  {
   "cell_type": "code",
   "execution_count": 12,
   "id": "9f7f3729",
   "metadata": {},
   "outputs": [
    {
     "name": "stdout",
     "output_type": "stream",
     "text": [
      "[(('The Two Fridas', 1939), 1939), (('My Dress Hangs Here', 1933), 1933), (('Tree of Hope', 1946), 1946), (('Self Portrait With Monkeys', 1940), 1940)]\n"
     ]
    }
   ],
   "source": [
    "paintings = list(zip(paintings, dates))\n",
    "print(paintings)"
   ]
  },
  {
   "cell_type": "markdown",
   "id": "cb05f9aa",
   "metadata": {},
   "source": [
    "### Task 4:\n",
    "There were some last minute additions to the show that we need to add to our list. Append the following paintings to our paintings list then re-print to check they were added correctly:\n",
    "\n",
    "`'The Broken Column', 1944\n",
    "'The Wounded Deer', 1946\n",
    "'Me and My Doll', 1937`"
   ]
  },
  {
   "cell_type": "code",
   "execution_count": 13,
   "id": "dc6535a7",
   "metadata": {},
   "outputs": [
    {
     "name": "stdout",
     "output_type": "stream",
     "text": [
      "[(('The Two Fridas', 1939), 1939), (('My Dress Hangs Here', 1933), 1933), (('Tree of Hope', 1946), 1946), (('Self Portrait With Monkeys', 1940), 1940), ('The Broken Column', 1944), ('The Wounded Deer', 1946), ('Me and My Doll', 1937)]\n"
     ]
    }
   ],
   "source": [
    "paintings.append(('The Broken Column', 1944))\n",
    "paintings.append(('The Wounded Deer', 1946))\n",
    "paintings.append(('Me and My Doll', 1937))\n",
    "print(paintings)"
   ]
  },
  {
   "cell_type": "markdown",
   "id": "dd706021",
   "metadata": {},
   "source": [
    "### Task 5:\n",
    "\n",
    "Since each of these paintings is going to be in the audio tour, they each need a unique identification number. But before we assign them a number, we first need to check how many paintings there are in total.\n",
    "\n",
    "Find the length of the paintings list."
   ]
  },
  {
   "cell_type": "code",
   "execution_count": 14,
   "id": "fe5f13cc",
   "metadata": {},
   "outputs": [
    {
     "name": "stdout",
     "output_type": "stream",
     "text": [
      "7\n"
     ]
    }
   ],
   "source": [
    "print(len(paintings))"
   ]
  },
  {
   "cell_type": "markdown",
   "id": "209d6c27",
   "metadata": {},
   "source": [
    "### Task 6:\n",
    "Use the range method to generate a list of identification numbers that starts at 1 and is equal in length to our list of items. Save the list to the variable `audio_tour_number` and check your work by printing the list."
   ]
  },
  {
   "cell_type": "code",
   "execution_count": 15,
   "id": "85a01b9e",
   "metadata": {},
   "outputs": [
    {
     "name": "stdout",
     "output_type": "stream",
     "text": [
      "[1, 2, 3, 4, 5, 6, 7]\n"
     ]
    }
   ],
   "source": [
    "audio_tour_number = list(range(1,8))\n",
    "print(audio_tour_number)"
   ]
  },
  {
   "cell_type": "markdown",
   "id": "876065d3",
   "metadata": {},
   "source": [
    "### Task 7:\n",
    "\n",
    "We’re finally ready to create our master list. Zip the `audio_tour_number` list to the paintings list and save it as `master_list`."
   ]
  },
  {
   "cell_type": "code",
   "execution_count": 16,
   "id": "caf2a2e9",
   "metadata": {},
   "outputs": [],
   "source": [
    "master_list = list(zip(audio_tour_number, paintings))"
   ]
  },
  {
   "cell_type": "markdown",
   "id": "b5808362",
   "metadata": {},
   "source": [
    "### Task 8:\n",
    "Print the `master_list` to the terminal.\n",
    "\n"
   ]
  },
  {
   "cell_type": "code",
   "execution_count": 17,
   "id": "1dc2a384",
   "metadata": {},
   "outputs": [
    {
     "name": "stdout",
     "output_type": "stream",
     "text": [
      "[(1, (('The Two Fridas', 1939), 1939)), (2, (('My Dress Hangs Here', 1933), 1933)), (3, (('Tree of Hope', 1946), 1946)), (4, (('Self Portrait With Monkeys', 1940), 1940)), (5, ('The Broken Column', 1944)), (6, ('The Wounded Deer', 1946)), (7, ('Me and My Doll', 1937))]\n"
     ]
    }
   ],
   "source": [
    "print(master_list)"
   ]
  }
 ],
 "metadata": {
  "kernelspec": {
   "display_name": "Python 3 (ipykernel)",
   "language": "python",
   "name": "python3"
  },
  "language_info": {
   "codemirror_mode": {
    "name": "ipython",
    "version": 3
   },
   "file_extension": ".py",
   "mimetype": "text/x-python",
   "name": "python",
   "nbconvert_exporter": "python",
   "pygments_lexer": "ipython3",
   "version": "3.9.12"
  }
 },
 "nbformat": 4,
 "nbformat_minor": 5
}
